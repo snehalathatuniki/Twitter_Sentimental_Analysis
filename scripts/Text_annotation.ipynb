{
 "cells": [
  {
   "cell_type": "code",
   "execution_count": 5,
   "id": "f247b222",
   "metadata": {},
   "outputs": [],
   "source": [
    "# Load dataset\n",
    "import pandas as pd\n",
    "df = pd.read_excel('/Users/hemanthalaparthi/Documents/Twitter_Sentimental_Analysis-main/Kaggle/EcoPreprocessed.xlsx')\n",
    "\n",
    "from textblob import TextBlob\n",
    "\n",
    "def annotate_tweet_sentiment(tweet):\n",
    "    blob = TextBlob(tweet)\n",
    "    sentiment_polarity = blob.sentiment.polarity\n",
    "    \n",
    "    if sentiment_polarity > 0:\n",
    "        return \"positive\"\n",
    "    elif sentiment_polarity == 0:\n",
    "        return \"neutral\"\n",
    "    else:\n",
    "        return \"negative\"\n",
    "    \n",
    "\n",
    "df['sentiment'] = df['review'].apply(annotate_tweet_sentiment)\n",
    "df.to_excel('/Users/hemanthalaparthi/Documents/Twitter_Sentimental_Analysis-main/Kaggle/predicticed_TextBlob.xlsx', index=False)"
   ]
  },
  {
   "cell_type": "code",
   "execution_count": null,
   "id": "d80d5675",
   "metadata": {},
   "outputs": [],
   "source": []
  }
 ],
 "metadata": {
  "kernelspec": {
   "display_name": "Python 3 (ipykernel)",
   "language": "python",
   "name": "python3"
  },
  "language_info": {
   "codemirror_mode": {
    "name": "ipython",
    "version": 3
   },
   "file_extension": ".py",
   "mimetype": "text/x-python",
   "name": "python",
   "nbconvert_exporter": "python",
   "pygments_lexer": "ipython3",
   "version": "3.9.13"
  }
 },
 "nbformat": 4,
 "nbformat_minor": 5
}
