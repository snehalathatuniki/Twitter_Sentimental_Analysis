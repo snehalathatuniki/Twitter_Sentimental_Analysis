{
 "cells": [
  {
   "cell_type": "code",
   "execution_count": null,
   "id": "256bab7a",
   "metadata": {},
   "outputs": [],
   "source": [
    "import pandas as pd\n",
    "from googletrans import Translator\n",
    "\n",
    "# Create a Translator object from the googletrans library\n",
    "translator = Translator()\n",
    "\n",
    "\n",
    "# Read in a CSV file of tweets related to clean energy into a pandas DataFrame\n",
    "df = pd.read_csv('Downloads/#cleanenergy.csv')\n",
    "\n",
    "# Select only the columns \"Content of the Tweet\" and \"Language of Tweet\" from the DataFrame\n",
    "tweets=df[[\"Content of the Tweet\",\"Language of Tweet\"]]\n",
    "\n",
    "# Create a new DataFrame called \"t\" with the selected columns\n",
    "t = pd.DataFrame(tweets)\n",
    "\n",
    "# Rename the columns in \"t\" to 'content' and 'lang' respectively\n",
    "t.rename(columns = {'Content of the Tweet':'content', 'Language of Tweet':'lang'}, inplace=True)\n",
    "\n",
    "\n",
    "# Loop through each row in the DataFrame\n",
    "for index in t.index:\n",
    "    # Check if the language of the tweet is not English\n",
    "    if(t['lang'][index]!='en'):\n",
    "        # If not, use the translator object to translate the tweet to English\n",
    "        t['content'][index]=translator.translate(t['content'][index])\n",
    "\n",
    "# Print the first 10 rows of the translated DataFrame\n",
    "print(t.head(10))\n"
   ]
  }
 ],
 "metadata": {
  "kernelspec": {
   "display_name": "Python 3 (ipykernel)",
   "language": "python",
   "name": "python3"
  },
  "language_info": {
   "codemirror_mode": {
    "name": "ipython",
    "version": 3
   },
   "file_extension": ".py",
   "mimetype": "text/x-python",
   "name": "python",
   "nbconvert_exporter": "python",
   "pygments_lexer": "ipython3",
   "version": "3.9.13"
  }
 },
 "nbformat": 4,
 "nbformat_minor": 5
}
