{
 "cells": [
  {
   "cell_type": "markdown",
   "id": "50b0050b",
   "metadata": {},
   "source": [
    "The process phases and the person incharge\n",
    "Sentiment Analysis: Snehalatha"
   ]
  },
  {
   "cell_type": "code",
   "execution_count": null,
   "id": "28f5569a",
   "metadata": {},
   "outputs": [],
   "source": [
    "#Datascraping"
   ]
  }
 ],
 "metadata": {
  "kernelspec": {
   "display_name": "Python 3 (ipykernel)",
   "language": "python",
   "name": "python3"
  },
  "language_info": {
   "codemirror_mode": {
    "name": "ipython",
    "version": 3
   },
   "file_extension": ".py",
   "mimetype": "text/x-python",
   "name": "python",
   "nbconvert_exporter": "python",
   "pygments_lexer": "ipython3",
   "version": "3.9.7"
  }
 },
 "nbformat": 4,
 "nbformat_minor": 5
}
